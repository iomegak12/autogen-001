{
 "cells": [
  {
   "cell_type": "markdown",
   "id": "c1e7f332",
   "metadata": {},
   "source": [
    "### Project Requirements\n",
    "Multi-Agent AI Chabot for Customer Support"
   ]
  },
  {
   "cell_type": "markdown",
   "id": "eefc06ff",
   "metadata": {},
   "source": [
    "The Multi-Agent AI Chatbot for Customer Service Support is a conversatioal AI system that utilizes multiple spcialized agents to handle customer inquiries related to product information, order placement, order status and complaint registration. The chatbot is built using Streamlit for Front-End UI, FastAPI for Back-end Processing and AutoGen's Multi-Agent Framework for task delegation and execution."
   ]
  },
  {
   "cell_type": "markdown",
   "id": "aa51052f",
   "metadata": {},
   "source": [
    "### Technology Stack\n",
    "\n",
    "- Front-End (Streamlit - Python UI Framework)\n",
    "- Back-End (FastAPI and Uvicorn)\n",
    "- AI Model (Open AI GPT 4o)\n",
    "- Framework for Multi-Agent Systems (AutoGen)\n",
    "- Database (In-Memory Dictionaries, Tools and Utilities)"
   ]
  }
 ],
 "metadata": {
  "language_info": {
   "name": "python"
  }
 },
 "nbformat": 4,
 "nbformat_minor": 5
}
