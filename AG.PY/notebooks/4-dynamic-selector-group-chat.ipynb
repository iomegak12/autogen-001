{
 "cells": [
  {
   "cell_type": "markdown",
   "id": "348a260e",
   "metadata": {},
   "source": [
    "### Dynamic Selection with Cutom Selection Function"
   ]
  },
  {
   "cell_type": "code",
   "execution_count": 2,
   "id": "a90ca244",
   "metadata": {},
   "outputs": [
    {
     "data": {
      "text/plain": [
       "True"
      ]
     },
     "execution_count": 2,
     "metadata": {},
     "output_type": "execute_result"
    }
   ],
   "source": [
    "from autogen_agentchat.agents import AssistantAgent, UserProxyAgent\n",
    "from autogen_agentchat.conditions import MaxMessageTermination, TextMentionTermination\n",
    "from autogen_agentchat.messages import AgentEvent, ChatMessage\n",
    "from autogen_agentchat.teams import SelectorGroupChat\n",
    "from autogen_agentchat.base import TaskResult\n",
    "from autogen_ext.models.openai import AzureOpenAIChatCompletionClient, OpenAIChatCompletionClient\n",
    "from autogen_agentchat.ui import Console\n",
    "from autogen_agentchat.conditions import TextMentionTermination\n",
    "\n",
    "import os\n",
    "\n",
    "from dotenv import load_dotenv\n",
    "\n",
    "load_dotenv(override=True)"
   ]
  },
  {
   "cell_type": "code",
   "execution_count": 3,
   "id": "1e98cbbc",
   "metadata": {},
   "outputs": [],
   "source": [
    "def weather_check_tool(city: str) -> str:\n",
    "    weather_data = {\n",
    "        \"New York\": \"Sunny, 25°C\",\n",
    "        \"Los Angeles\": \"Cloudy, 22°C\",\n",
    "        \"Chicago\": \"Rainy, 18°C\",\n",
    "        \"Houston\": \"Sunny, 30°C\",\n",
    "        \"Phoenix\": \"Hot, 35°C\",\n",
    "        \"London\": \"Rainy, 15°C\",\n",
    "        \"Tokyo\": \"Cloudy, 20°C\",\n",
    "        \"Berlin\": \"Sunny, 23°C\",\n",
    "    }\n",
    "\n",
    "    return weather_data.get(city, \"Weather data not available for this city.\")\n",
    "\n",
    "\n",
    "def currency_exchange_tool(amount: float, from_currency: str, to_currency: str) -> str:\n",
    "    exchange_rates = {\n",
    "        \"USD\": {\"EUR\": 0.85, \"JPY\": 110.0},\n",
    "        \"EUR\": {\"USD\": 1.18, \"JPY\": 130.0},\n",
    "        \"JPY\": {\"USD\": 0.0091, \"EUR\": 0.0077},\n",
    "    }\n",
    "\n",
    "    if from_currency in exchange_rates and to_currency in exchange_rates[from_currency]:\n",
    "        rate = exchange_rates[from_currency][to_currency]\n",
    "        converted_amount = amount * rate\n",
    "        return f\"{amount} {from_currency} is {converted_amount:.2f} {to_currency}.\"\n",
    "    else:\n",
    "        return \"Currency conversion not available for the specified currencies.\""
   ]
  },
  {
   "cell_type": "code",
   "execution_count": 4,
   "id": "af29a49c",
   "metadata": {},
   "outputs": [],
   "source": [
    "model_client = OpenAIChatCompletionClient(\n",
    "    # azure_deployment = os.getenv(\"azure_deployment\"),\n",
    "    # model = os.getenv(\"model_name\"),\n",
    "    # api_version = os.getenv(\"api_version\"),\n",
    "    # azure_endpoint=os.getenv(\"azure_endpoint\"),\n",
    "    # api_key=os.getenv(\"api_key\")\n",
    "    model=\"gpt-4o\",\n",
    "    api_key=os.getenv(\"OPENAI_API_KEY\"),\n",
    ")"
   ]
  },
  {
   "cell_type": "code",
   "execution_count": 5,
   "id": "b3232c57",
   "metadata": {},
   "outputs": [],
   "source": [
    "planning_agent = AssistantAgent(\n",
    "    \"PlanningAgent\",\n",
    "    model_client=model_client,\n",
    "    system_message=\"\"\"\n",
    "        You are a planning agent that helps users with their tasks.\n",
    "        It should break down tasks and delegate them to other appropriate agents.\n",
    "        Your Team Members are:\n",
    "        - WeatherAgent: Provides weather information for cities.\n",
    "        - CurrencyAgent: Provides currency exchange rates and conversions.\n",
    "        You only plan and delegate tasks, you do not execute them by yourself.\n",
    "        When assigning tasks to agents, you should provide clear instructions in the following format.\n",
    "        \n",
    "        1. <agent> : <task>\n",
    "        \n",
    "        After all tasks are complete, summarize the findings and end with 'TERMINATE';\n",
    "        \"\"\",\n",
    ")\n",
    "\n",
    "weather_agent = AssistantAgent(\n",
    "    \"WeatherAgent\",\n",
    "    model_client=model_client,\n",
    "    system_message=\"\"\"\n",
    "        You are a weather agent that provides weather information for cities.\n",
    "        When asked about the weather, respond with the current weather conditions for the specified city.\n",
    "        If the city is not in your database, respond with 'Weather data not available for this city.'\n",
    "        Your only tool is the weather_check_tool, which takes a city name as input and returns the weather information.\n",
    "        \"\"\",\n",
    "    tools=[weather_check_tool],\n",
    ")\n",
    "\n",
    "currency_agent = AssistantAgent(\n",
    "    \"CurrencyAgent\",\n",
    "    model_client=model_client,\n",
    "    system_message=\"\"\"\n",
    "        You are a currency exchange agent that provides currency exchange rates and conversions.\n",
    "        When asked about currency exchange, respond with the converted amount based on the provided exchange rates.\n",
    "        If the currencies are not in your database, respond with 'Currency conversion not available for the specified currencies.'\n",
    "        Your only tool is the currency_exchange_tool, which takes an amount, from_currency, and to_currency as input and returns the converted amount.\n",
    "        \"\"\",\n",
    "    tools=[currency_exchange_tool],\n",
    ")"
   ]
  },
  {
   "cell_type": "code",
   "execution_count": 7,
   "id": "110a6180",
   "metadata": {},
   "outputs": [],
   "source": [
    "from typing import Sequence\n",
    "\n",
    "\n",
    "def custom_selector_func(messages: Sequence[AgentEvent | ChatMessage]) -> str | None:\n",
    "    if messages[-1].source != planning_agent.name:\n",
    "        return planning_agent.name\n",
    "\n",
    "    return None"
   ]
  },
  {
   "cell_type": "code",
   "execution_count": 9,
   "id": "cb2a44ba",
   "metadata": {},
   "outputs": [],
   "source": [
    "text_mention_termination = TextMentionTermination(\"TERMINATE\")\n",
    "max_message_termination = MaxMessageTermination(5)\n",
    "combined_termination = text_mention_termination & max_message_termination\n",
    "\n",
    "team = SelectorGroupChat(\n",
    "    [planning_agent, weather_agent, currency_agent],\n",
    "    model_client=model_client,\n",
    "    termination_condition=combined_termination,\n",
    "    allow_repeated_speaker=True,\n",
    "    selector_func=custom_selector_func,\n",
    ")"
   ]
  },
  {
   "cell_type": "code",
   "execution_count": 11,
   "id": "484c6a40",
   "metadata": {},
   "outputs": [
    {
     "name": "stdout",
     "output_type": "stream",
     "text": [
      "---------- TextMessage (user) ----------\n",
      "What's the current weather in New York and how much is 100 USD in EUR?\n",
      "---------- TextMessage (PlanningAgent) ----------\n",
      "1. WeatherAgent : Provide the current weather for New York.\n",
      "2. CurrencyAgent : Convert 100 USD to EUR.\n",
      "---------- ToolCallRequestEvent (WeatherAgent) ----------\n",
      "[FunctionCall(id='call_HU8b30hos5apTeO0uS8H7jlQ', arguments='{\"city\":\"New York\"}', name='weather_check_tool')]\n",
      "---------- ToolCallExecutionEvent (WeatherAgent) ----------\n",
      "[FunctionExecutionResult(content='Sunny, 25°C', name='weather_check_tool', call_id='call_HU8b30hos5apTeO0uS8H7jlQ', is_error=False)]\n",
      "---------- ToolCallSummaryMessage (WeatherAgent) ----------\n",
      "Sunny, 25°C\n",
      "---------- TextMessage (PlanningAgent) ----------\n",
      "3. CurrencyAgent : Providing the exchange rate and conversion of 100 USD to EUR.\n",
      "---------- ToolCallRequestEvent (CurrencyAgent) ----------\n",
      "[FunctionCall(id='call_C7vuU1LIYyqMYJPIS8ogKk6K', arguments='{\"amount\":100,\"from_currency\":\"USD\",\"to_currency\":\"EUR\"}', name='currency_exchange_tool')]\n",
      "---------- ToolCallExecutionEvent (CurrencyAgent) ----------\n",
      "[FunctionExecutionResult(content='100.0 USD is 85.00 EUR.', name='currency_exchange_tool', call_id='call_C7vuU1LIYyqMYJPIS8ogKk6K', is_error=False)]\n",
      "---------- ToolCallSummaryMessage (CurrencyAgent) ----------\n",
      "100.0 USD is 85.00 EUR.\n",
      "---------- TextMessage (PlanningAgent) ----------\n",
      "The current weather in New York is Sunny with a temperature of 25°C. Additionally, 100 USD is equivalent to 85.00 EUR. TERMINATE\n"
     ]
    },
    {
     "data": {
      "text/plain": [
       "TaskResult(messages=[TextMessage(source='user', models_usage=None, metadata={}, created_at=datetime.datetime(2025, 6, 6, 16, 4, 13, 316073, tzinfo=datetime.timezone.utc), content=\"What's the current weather in New York and how much is 100 USD in EUR?\", type='TextMessage'), TextMessage(source='PlanningAgent', models_usage=RequestUsage(prompt_tokens=149, completion_tokens=25), metadata={}, created_at=datetime.datetime(2025, 6, 6, 16, 4, 21, 499684, tzinfo=datetime.timezone.utc), content='1. WeatherAgent : Provide the current weather for New York.\\n2. CurrencyAgent : Convert 100 USD to EUR.', type='TextMessage'), ToolCallRequestEvent(source='WeatherAgent', models_usage=RequestUsage(prompt_tokens=171, completion_tokens=16), metadata={}, created_at=datetime.datetime(2025, 6, 6, 16, 4, 28, 945180, tzinfo=datetime.timezone.utc), content=[FunctionCall(id='call_HU8b30hos5apTeO0uS8H7jlQ', arguments='{\"city\":\"New York\"}', name='weather_check_tool')], type='ToolCallRequestEvent'), ToolCallExecutionEvent(source='WeatherAgent', models_usage=None, metadata={}, created_at=datetime.datetime(2025, 6, 6, 16, 4, 28, 950313, tzinfo=datetime.timezone.utc), content=[FunctionExecutionResult(content='Sunny, 25°C', name='weather_check_tool', call_id='call_HU8b30hos5apTeO0uS8H7jlQ', is_error=False)], type='ToolCallExecutionEvent'), ToolCallSummaryMessage(source='WeatherAgent', models_usage=None, metadata={}, created_at=datetime.datetime(2025, 6, 6, 16, 4, 28, 951260, tzinfo=datetime.timezone.utc), content='Sunny, 25°C', type='ToolCallSummaryMessage', tool_calls=[FunctionCall(id='call_HU8b30hos5apTeO0uS8H7jlQ', arguments='{\"city\":\"New York\"}', name='weather_check_tool')], results=[FunctionExecutionResult(content='Sunny, 25°C', name='weather_check_tool', call_id='call_HU8b30hos5apTeO0uS8H7jlQ', is_error=False)]), TextMessage(source='PlanningAgent', models_usage=RequestUsage(prompt_tokens=190, completion_tokens=18), metadata={}, created_at=datetime.datetime(2025, 6, 6, 16, 4, 30, 54599, tzinfo=datetime.timezone.utc), content='3. CurrencyAgent : Providing the exchange rate and conversion of 100 USD to EUR.', type='TextMessage'), ToolCallRequestEvent(source='CurrencyAgent', models_usage=RequestUsage(prompt_tokens=242, completion_tokens=25), metadata={}, created_at=datetime.datetime(2025, 6, 6, 16, 4, 32, 720181, tzinfo=datetime.timezone.utc), content=[FunctionCall(id='call_C7vuU1LIYyqMYJPIS8ogKk6K', arguments='{\"amount\":100,\"from_currency\":\"USD\",\"to_currency\":\"EUR\"}', name='currency_exchange_tool')], type='ToolCallRequestEvent'), ToolCallExecutionEvent(source='CurrencyAgent', models_usage=None, metadata={}, created_at=datetime.datetime(2025, 6, 6, 16, 4, 32, 724891, tzinfo=datetime.timezone.utc), content=[FunctionExecutionResult(content='100.0 USD is 85.00 EUR.', name='currency_exchange_tool', call_id='call_C7vuU1LIYyqMYJPIS8ogKk6K', is_error=False)], type='ToolCallExecutionEvent'), ToolCallSummaryMessage(source='CurrencyAgent', models_usage=None, metadata={}, created_at=datetime.datetime(2025, 6, 6, 16, 4, 32, 725473, tzinfo=datetime.timezone.utc), content='100.0 USD is 85.00 EUR.', type='ToolCallSummaryMessage', tool_calls=[FunctionCall(id='call_C7vuU1LIYyqMYJPIS8ogKk6K', arguments='{\"amount\":100,\"from_currency\":\"USD\",\"to_currency\":\"EUR\"}', name='currency_exchange_tool')], results=[FunctionExecutionResult(content='100.0 USD is 85.00 EUR.', name='currency_exchange_tool', call_id='call_C7vuU1LIYyqMYJPIS8ogKk6K', is_error=False)]), TextMessage(source='PlanningAgent', models_usage=RequestUsage(prompt_tokens=230, completion_tokens=32), metadata={}, created_at=datetime.datetime(2025, 6, 6, 16, 4, 33, 809510, tzinfo=datetime.timezone.utc), content='The current weather in New York is Sunny with a temperature of 25°C. Additionally, 100 USD is equivalent to 85.00 EUR. TERMINATE', type='TextMessage')], stop_reason=\"Maximum number of messages 5 reached, current message count: 5, Text 'TERMINATE' mentioned\")"
      ]
     },
     "execution_count": 11,
     "metadata": {},
     "output_type": "execute_result"
    }
   ],
   "source": [
    "task = \"What's the current weather in New York and how much is 100 USD in EUR?\"\n",
    "\n",
    "await Console(\n",
    "    team.run_stream(task=task))"
   ]
  }
 ],
 "metadata": {
  "kernelspec": {
   "display_name": ".venv",
   "language": "python",
   "name": "python3"
  },
  "language_info": {
   "codemirror_mode": {
    "name": "ipython",
    "version": 3
   },
   "file_extension": ".py",
   "mimetype": "text/x-python",
   "name": "python",
   "nbconvert_exporter": "python",
   "pygments_lexer": "ipython3",
   "version": "3.11.12"
  }
 },
 "nbformat": 4,
 "nbformat_minor": 5
}
