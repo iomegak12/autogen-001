{
 "cells": [
  {
   "cell_type": "markdown",
   "id": "0b57f017",
   "metadata": {},
   "source": [
    "### Learning AutoGen - Teams - RoundRobinGroupChat"
   ]
  },
  {
   "cell_type": "code",
   "execution_count": null,
   "id": "ae067deb",
   "metadata": {},
   "outputs": [],
   "source": [
    "from autogen_agentchat.agents import AssistantAgent\n",
    "from autogen_agentchat.conditions import TextMentionTermination\n",
    "from autogen_agentchat.teams import RoundRobinGroupChat\n",
    "from autogen_agentchat.base import TaskResult\n",
    "from autogen_ext.models.openai import AzureOpenAIChatCompletionClient\n",
    "from autogen_agentchat.ui import Console\n",
    "\n",
    "import os\n",
    "\n",
    "from dotenv import load_dotenv\n",
    "\n",
    "load_dotenv()"
   ]
  },
  {
   "cell_type": "code",
   "execution_count": null,
   "id": "dea47ca6",
   "metadata": {},
   "outputs": [],
   "source": [
    "model_client = AzureOpenAIChatCompletionClient(\n",
    "    azure_deployment = os.getenv(\"azure_deployment\"),\n",
    "    model = os.getenv(\"model_name\"),\n",
    "    api_version = os.getenv(\"api_version\"),\n",
    "    azure_endpoint=os.getenv(\"azure_endpoint\"),\n",
    "    api_key=os.getenv(\"api_key\")\n",
    ")"
   ]
  },
  {
   "cell_type": "code",
   "execution_count": null,
   "id": "b90a628c",
   "metadata": {},
   "outputs": [],
   "source": [
    "blog_post_draft_agent = AssistantAgent(\n",
    "    \"BlogPostDraftAgent\",\n",
    "    model_client=model_client,\n",
    "    system_message=\"You are a blog post draft writer. Your task is to create a draft for a blog post based on the provided topic.\",\n",
    ")\n",
    "\n",
    "blog_post_enhancement_agent = AssistantAgent(\n",
    "    \"BlogPostEnhancementAgent\",\n",
    "    model_client=model_client,\n",
    "    system_message=\n",
    "    \"\"\"You are a blog post enhancement writer. Your task is to improve the draft provided by drafting agent. \n",
    "    Focus on improving readability, adding relevant examples, and optimizing for SEO.\n",
    "    If you're satisfied with the final draft, respond with 'FINAL'.\n",
    "    \"\"\",\n",
    ")\n",
    "\n",
    "text_termination = TextMentionTermination(\"FINAL\")\n",
    "\n",
    "team = RoundRobinGroupChat(\n",
    "    [blog_post_draft_agent, blog_post_enhancement_agent],\n",
    "    text_termination,\n",
    ")"
   ]
  },
  {
   "cell_type": "code",
   "execution_count": null,
   "id": "1ebab4ad",
   "metadata": {},
   "outputs": [],
   "source": [
    "async for message in team.run_stream(task=\"create a short blog post about the benefits of using AI in e-commerce\"):\n",
    "    if isinstance(message, TaskResult):\n",
    "        print(f\"Reason: {message.stop_reason}\")\n",
    "    else:\n",
    "        print(message)\n",
    "\n",
    "        if message:\n",
    "            print(message.content)"
   ]
  },
  {
   "cell_type": "code",
   "execution_count": null,
   "id": "077790f8",
   "metadata": {},
   "outputs": [],
   "source": [
    "await team.reset()\n",
    "\n",
    "await Console(\n",
    "    team.run_stream(task=\"create a short blog post about the benefits of using AI in e-commerce\"))"
   ]
  }
 ],
 "metadata": {
  "kernelspec": {
   "display_name": ".venv",
   "language": "python",
   "name": "python3"
  },
  "language_info": {
   "codemirror_mode": {
    "name": "ipython",
    "version": 3
   },
   "file_extension": ".py",
   "mimetype": "text/x-python",
   "name": "python",
   "nbconvert_exporter": "python",
   "pygments_lexer": "ipython3",
   "version": "3.11.12"
  }
 },
 "nbformat": 4,
 "nbformat_minor": 5
}
