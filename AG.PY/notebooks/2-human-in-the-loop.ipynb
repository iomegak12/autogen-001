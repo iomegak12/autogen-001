{
 "cells": [
  {
   "cell_type": "markdown",
   "id": "f289682e",
   "metadata": {},
   "source": [
    "### Human In The Loop & Termination"
   ]
  },
  {
   "cell_type": "code",
   "execution_count": 5,
   "id": "f0bfde92",
   "metadata": {},
   "outputs": [
    {
     "data": {
      "text/plain": [
       "True"
      ]
     },
     "execution_count": 5,
     "metadata": {},
     "output_type": "execute_result"
    }
   ],
   "source": [
    "from autogen_agentchat.agents import AssistantAgent, UserProxyAgent\n",
    "from autogen_agentchat.conditions import TextMentionTermination\n",
    "from autogen_agentchat.teams import RoundRobinGroupChat\n",
    "from autogen_agentchat.base import TaskResult\n",
    "from autogen_ext.models.openai import AzureOpenAIChatCompletionClient, OpenAIChatCompletionClient\n",
    "from autogen_agentchat.ui import Console\n",
    "from autogen_agentchat.conditions import TextMentionTermination\n",
    "\n",
    "import os\n",
    "\n",
    "from dotenv import load_dotenv\n",
    "\n",
    "load_dotenv(override=True)"
   ]
  },
  {
   "cell_type": "code",
   "execution_count": 6,
   "id": "ce9613c1",
   "metadata": {},
   "outputs": [],
   "source": [
    "model_client = OpenAIChatCompletionClient(\n",
    "    # azure_deployment = os.getenv(\"azure_deployment\"),\n",
    "    # model = os.getenv(\"model_name\"),\n",
    "    # api_version = os.getenv(\"api_version\"),\n",
    "    # azure_endpoint=os.getenv(\"azure_endpoint\"),\n",
    "    # api_key=os.getenv(\"api_key\")\n",
    "    model=\"gpt-4o\",\n",
    "    api_key=os.getenv(\"OPENAI_API_KEY\"),\n",
    ")"
   ]
  },
  {
   "cell_type": "code",
   "execution_count": 7,
   "id": "ffeab1ed",
   "metadata": {},
   "outputs": [],
   "source": [
    "assistant = AssistantAgent(\"assistant\", model_client=model_client)\n",
    "user_proxy = UserProxyAgent(\"user_proxy\", input_func = input)\n",
    "termination_condition = TextMentionTermination(\"APPROVE\")\n",
    "\n",
    "team = RoundRobinGroupChat(\n",
    "    [assistant, user_proxy],\n",
    "    termination_condition=termination_condition,\n",
    ")"
   ]
  },
  {
   "cell_type": "code",
   "execution_count": 9,
   "id": "3e848387",
   "metadata": {},
   "outputs": [
    {
     "name": "stdout",
     "output_type": "stream",
     "text": [
      "---------- TextMessage (user) ----------\n",
      "Suggest three creative ideas for a new mobile app.\n",
      "---------- TextMessage (assistant) ----------\n",
      "Sure! Here are three more creative ideas for a new mobile app:\n",
      "\n",
      "1. **DreamCatcher:**\n",
      "   - **Concept:** An app designed to help users track, analyze, and interpret their dreams. It provides tools to record dreams, offers insights based on dream symbols, and connects users to a community interested in dream analysis.\n",
      "   - **Features:**\n",
      "     - Dream journal for recording and tagging dreams\n",
      "     - Symbol dictionary for interpreting common themes\n",
      "     - AI-generated dream analysis for deeper insights\n",
      "     - Community forums for sharing dreams and interpretations\n",
      "\n",
      "2. **TasteTrail:**\n",
      "   - **Concept:** An app for food enthusiasts that turns trying new cuisines into an adventure. It offers personalized trails based on user's taste preferences, where they can explore different restaurants offering unique dishes in their vicinity.\n",
      "   - **Features:**\n",
      "     - Personalized taste profile\n",
      "     - Location-based culinary trails\n",
      "     - Restaurant reviews focused on specific dishes\n",
      "     - Social sharing to invite friends on food adventures\n",
      "\n",
      "3. **HabitGrove:**\n",
      "   - **Concept:** A habit-building app that uses gamification to encourage users to develop and maintain positive habits. Users plant a virtual garden, where each plant represents a habit, and growth occurs as they achieve their habit goals.\n",
      "   - **Features:**\n",
      "     - Garden-themed interface to track habits\n",
      "     - Growth stages for each habit plant indicating progress\n",
      "     - Community challenges to motivate and inspire\n",
      "     - Daily reminders and motivational quotes\n",
      "\n",
      "I hope you find these ideas inspiring! Let me know if there's anything else you need. TERMINATE\n",
      "---------- TextMessage (user_proxy) ----------\n",
      "APPROVE\n"
     ]
    },
    {
     "data": {
      "text/plain": [
       "TaskResult(messages=[TextMessage(source='user', models_usage=None, metadata={}, created_at=datetime.datetime(2025, 6, 6, 15, 32, 53, 305279, tzinfo=datetime.timezone.utc), content='Suggest three creative ideas for a new mobile app.', type='TextMessage'), TextMessage(source='assistant', models_usage=RequestUsage(prompt_tokens=407, completion_tokens=317), metadata={}, created_at=datetime.datetime(2025, 6, 6, 15, 33, 4, 684622, tzinfo=datetime.timezone.utc), content=\"Sure! Here are three more creative ideas for a new mobile app:\\n\\n1. **DreamCatcher:**\\n   - **Concept:** An app designed to help users track, analyze, and interpret their dreams. It provides tools to record dreams, offers insights based on dream symbols, and connects users to a community interested in dream analysis.\\n   - **Features:**\\n     - Dream journal for recording and tagging dreams\\n     - Symbol dictionary for interpreting common themes\\n     - AI-generated dream analysis for deeper insights\\n     - Community forums for sharing dreams and interpretations\\n\\n2. **TasteTrail:**\\n   - **Concept:** An app for food enthusiasts that turns trying new cuisines into an adventure. It offers personalized trails based on user's taste preferences, where they can explore different restaurants offering unique dishes in their vicinity.\\n   - **Features:**\\n     - Personalized taste profile\\n     - Location-based culinary trails\\n     - Restaurant reviews focused on specific dishes\\n     - Social sharing to invite friends on food adventures\\n\\n3. **HabitGrove:**\\n   - **Concept:** A habit-building app that uses gamification to encourage users to develop and maintain positive habits. Users plant a virtual garden, where each plant represents a habit, and growth occurs as they achieve their habit goals.\\n   - **Features:**\\n     - Garden-themed interface to track habits\\n     - Growth stages for each habit plant indicating progress\\n     - Community challenges to motivate and inspire\\n     - Daily reminders and motivational quotes\\n\\nI hope you find these ideas inspiring! Let me know if there's anything else you need. TERMINATE\", type='TextMessage'), UserInputRequestedEvent(source='user_proxy', models_usage=None, metadata={}, created_at=datetime.datetime(2025, 6, 6, 15, 33, 4, 688184, tzinfo=datetime.timezone.utc), request_id='21f43237-95fd-4807-a950-8d0e2ed5ff76', content='', type='UserInputRequestedEvent'), TextMessage(source='user_proxy', models_usage=None, metadata={}, created_at=datetime.datetime(2025, 6, 6, 15, 33, 19, 887828, tzinfo=datetime.timezone.utc), content='APPROVE', type='TextMessage')], stop_reason=\"Text 'APPROVE' mentioned\")"
      ]
     },
     "execution_count": 9,
     "metadata": {},
     "output_type": "execute_result"
    }
   ],
   "source": [
    "stream = team.run_stream(task = \"Suggest three creative ideas for a new mobile app.\")\n",
    "\n",
    "await Console(stream)"
   ]
  }
 ],
 "metadata": {
  "kernelspec": {
   "display_name": ".venv",
   "language": "python",
   "name": "python3"
  },
  "language_info": {
   "codemirror_mode": {
    "name": "ipython",
    "version": 3
   },
   "file_extension": ".py",
   "mimetype": "text/x-python",
   "name": "python",
   "nbconvert_exporter": "python",
   "pygments_lexer": "ipython3",
   "version": "3.11.12"
  }
 },
 "nbformat": 4,
 "nbformat_minor": 5
}
