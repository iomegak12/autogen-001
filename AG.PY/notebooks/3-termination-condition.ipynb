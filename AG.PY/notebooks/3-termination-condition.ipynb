{
 "cells": [
  {
   "cell_type": "markdown",
   "id": "9e2ad461",
   "metadata": {},
   "source": [
    "### Multiple Termination Condition"
   ]
  },
  {
   "cell_type": "code",
   "execution_count": 2,
   "id": "d34f99a7",
   "metadata": {},
   "outputs": [
    {
     "data": {
      "text/plain": [
       "True"
      ]
     },
     "execution_count": 2,
     "metadata": {},
     "output_type": "execute_result"
    }
   ],
   "source": [
    "from autogen_agentchat.agents import AssistantAgent, UserProxyAgent\n",
    "from autogen_agentchat.conditions import MaxMessageTermination, TextMentionTermination\n",
    "from autogen_agentchat.teams import RoundRobinGroupChat\n",
    "from autogen_agentchat.base import TaskResult\n",
    "from autogen_ext.models.openai import AzureOpenAIChatCompletionClient, OpenAIChatCompletionClient\n",
    "from autogen_agentchat.ui import Console\n",
    "from autogen_agentchat.conditions import TextMentionTermination\n",
    "\n",
    "import os\n",
    "\n",
    "from dotenv import load_dotenv\n",
    "\n",
    "load_dotenv(override=True)"
   ]
  },
  {
   "cell_type": "code",
   "execution_count": 3,
   "id": "13d3352c",
   "metadata": {},
   "outputs": [],
   "source": [
    "model_client = OpenAIChatCompletionClient(\n",
    "    # azure_deployment = os.getenv(\"azure_deployment\"),\n",
    "    # model = os.getenv(\"model_name\"),\n",
    "    # api_version = os.getenv(\"api_version\"),\n",
    "    # azure_endpoint=os.getenv(\"azure_endpoint\"),\n",
    "    # api_key=os.getenv(\"api_key\")\n",
    "    model=\"gpt-4o\",\n",
    "    api_key=os.getenv(\"OPENAI_API_KEY\"),\n",
    ")"
   ]
  },
  {
   "cell_type": "code",
   "execution_count": 5,
   "id": "bf9c2dbc",
   "metadata": {},
   "outputs": [],
   "source": [
    "primary_agent = AssistantAgent(\n",
    "    \"primary_agent\",\n",
    "    model_client=model_client,\n",
    "    system_message=\"\"\"\n",
    "        You are a helpful assistant. \n",
    "        You will answer questions and provide information as needed.\n",
    "        \"\"\")\n",
    "\n",
    "critic_agent = AssistantAgent(\n",
    "    \"critic_agent\",\n",
    "    model_client=model_client,\n",
    "    system_message=\"\"\"\n",
    "        You are a critic assistant. \n",
    "        Provide constructive feedback on the primary agent's responses.\n",
    "        Respond with 'APPROVE' to when your feedback is addressed\n",
    "        \"\"\")\n",
    "\n",
    "max_message_termination = MaxMessageTermination(max_messages=3)\n",
    "text_mention_termination = TextMentionTermination(\"APPROVE\")\n",
    "\n",
    "combined_termination = max_message_termination & text_mention_termination\n",
    "team = RoundRobinGroupChat(\n",
    "    [primary_agent, critic_agent],\n",
    "    termination_condition=combined_termination,\n",
    ")"
   ]
  },
  {
   "cell_type": "code",
   "execution_count": 6,
   "id": "1d4b7124",
   "metadata": {},
   "outputs": [
    {
     "name": "stdout",
     "output_type": "stream",
     "text": [
      "---------- TextMessage (user) ----------\n",
      "Describe a futuristic city in 2050.\n",
      "---------- TextMessage (primary_agent) ----------\n",
      "In 2050, futuristic cities are likely to be characterized by several advanced technologies and sustainable practices, creating environments that are efficient, livable, and eco-friendly.\n",
      "\n",
      "1. **Smart Infrastructure**: Buildings and infrastructure are embedded with sensors and IoT devices, enabling efficient energy use, real-time monitoring, and seamless connectivity. Skyscrapers are designed with adaptive facades that regulate temperature and lighting based on environmental conditions.\n",
      "\n",
      "2. **Sustainable Energy**: Cities are powered predominantly by renewable energy sources such as solar, wind, and geothermal power. Solar panels are integrated into buildings and roads, while vertical wind turbines are a common sight. Energy storage advancements help maintain stability in the power grid.\n",
      "\n",
      "3. **Green Spaces**: Urban planning prioritizes green spaces, including vertical gardens and green roofs, which improve air quality and provide habitats for urban wildlife. Parks and green corridors are abundant, encouraging outdoor activities and connecting neighborhoods.\n",
      "\n",
      "4. **Transportation**: Autonomous electric vehicles dominate the roads, reducing traffic congestion and lowering emissions. Public transportation is efficient and widely used, with high-speed maglev trains connecting suburbs to city centers. Personal transportation includes autonomous drones and hyperloop systems for quick intercity travel.\n",
      "\n",
      "5. **Waste Management**: Cities have advanced waste management systems that emphasize recycling and circular economy principles. Waste-to-energy plants convert waste into energy, and smart bins automatically sort recyclables from trash.\n",
      "\n",
      "6. **Water Management**: Desalination and water recycling technologies ensure a sustainable water supply. Smart irrigation systems and permeable surfaces help manage stormwater and reduce runoff.\n",
      "\n",
      "7. **Living Environments**: Housing is diverse, with modular, affordable units that can adapt to the needs of residents. Mixed-use developments integrate residential, commercial, and recreational spaces, enhancing community interaction.\n",
      "\n",
      "8. **Digital Services**: Digital platforms provide residents with access to a host of services, including telemedicine, virtual education, and civic engagement tools. Augmented reality overlays enhance navigation and information accessibility around the city.\n",
      "\n",
      "9. **Resilience and Adaptation**: Cities are designed to be resilient against climate change impacts. Flood defense systems, heat-reflective surfaces, and infrastructure designed for extreme weather events protect urban areas and their populations.\n",
      "\n",
      "10. **Community and Inclusivity**: Cities prioritize inclusivity and equity, ensuring access to technology, education, and health services for all demographic groups. Public spaces are designed to be accessible to people of all abilities, fostering a sense of community.\n",
      "\n",
      "In summary, futuristic cities in 2050 are vibrant, smart, and sustainable, blending technology with nature to create harmonious living spaces that prioritize human well-being and environmental stewardship.\n",
      "---------- TextMessage (critic_agent) ----------\n",
      "The response gives a thorough and imaginative vision of a futuristic city in 2050, covering various aspects such as smart infrastructure, sustainable energy, transportation, and community. The details provided about technology integration and environmental considerations are relevant and well-articulated. However, to enhance engagement and relatability, it could benefit from including specific examples of cities or unique innovations that might materialize by 2050. Adding insights into how these changes might address current urban challenges could also provide a deeper connection and understanding for readers. Overall, great effort in envisioning a balanced, futuristic ecosystem!\n",
      "---------- TextMessage (primary_agent) ----------\n",
      "Thank you for the feedback! To add more specificity and engagement, let's consider how specific cities or innovations could lead the way by 2050.\n",
      "\n",
      "For example, a city like Singapore, known for its urban planning and green initiatives, might spearhead the development of vertical farms that not only supply local produce but also act as carbon sinks. These farms could be integrated into the very architecture of residential and commercial buildings, effectively turning the city into a self-sustaining ecosystem.\n",
      "\n",
      "In terms of transportation, Los Angeles could transform its extensive freeway network into a hub for autonomous electric vehicles, robo-taxis, and hyperloops. This shift could be accompanied by smart traffic management systems that use AI to optimize traffic flow and reduce congestion, a significant improvement over today's gridlock issues.\n",
      "\n",
      "On the innovation front, Tokyo might lead in waste management technology by deploying advanced recycling robots and AI-driven waste sorting facilities, significantly reducing landfill use and promoting a circular economy. These innovations address present urban challenges such as waste management inefficiencies and limited landfill space.\n",
      "\n",
      "Additionally, by 2050, cities like Amsterdam might expand their bike-friendly infrastructure to include smart bikes equipped with GPS and health-monitoring systems, encouraging active and healthy lifestyles while reducing environmental footprints.\n",
      "\n",
      "These examples illustrate not only technological advancements but also their potential to solve current issues like pollution, traffic congestion, and limited urban space, helping cities become more resilient and sustainable.\n",
      "---------- TextMessage (critic_agent) ----------\n",
      "This revised response effectively incorporates specific examples of cities known for their innovative practices, which enhances the connection and relatability for readers. Mentioning cities like Singapore, Los Angeles, Tokyo, and Amsterdam provides tangible references to how futuristic changes may manifest in different urban settings, addressing current urban challenges. This approach enriches the narrative with practical and engaging illustrations, making the vision of 2050 more vivid and believable. The response successfully builds on the initial feedback, and the added specificity strengthens the overall impact.\n",
      "\n",
      "APPROVE\n"
     ]
    },
    {
     "data": {
      "text/plain": [
       "TaskResult(messages=[TextMessage(source='user', models_usage=None, metadata={}, created_at=datetime.datetime(2025, 6, 6, 15, 45, 41, 520231, tzinfo=datetime.timezone.utc), content='Describe a futuristic city in 2050.', type='TextMessage'), TextMessage(source='primary_agent', models_usage=RequestUsage(prompt_tokens=42, completion_tokens=531), metadata={}, created_at=datetime.datetime(2025, 6, 6, 15, 46, 1, 121903, tzinfo=datetime.timezone.utc), content='In 2050, futuristic cities are likely to be characterized by several advanced technologies and sustainable practices, creating environments that are efficient, livable, and eco-friendly.\\n\\n1. **Smart Infrastructure**: Buildings and infrastructure are embedded with sensors and IoT devices, enabling efficient energy use, real-time monitoring, and seamless connectivity. Skyscrapers are designed with adaptive facades that regulate temperature and lighting based on environmental conditions.\\n\\n2. **Sustainable Energy**: Cities are powered predominantly by renewable energy sources such as solar, wind, and geothermal power. Solar panels are integrated into buildings and roads, while vertical wind turbines are a common sight. Energy storage advancements help maintain stability in the power grid.\\n\\n3. **Green Spaces**: Urban planning prioritizes green spaces, including vertical gardens and green roofs, which improve air quality and provide habitats for urban wildlife. Parks and green corridors are abundant, encouraging outdoor activities and connecting neighborhoods.\\n\\n4. **Transportation**: Autonomous electric vehicles dominate the roads, reducing traffic congestion and lowering emissions. Public transportation is efficient and widely used, with high-speed maglev trains connecting suburbs to city centers. Personal transportation includes autonomous drones and hyperloop systems for quick intercity travel.\\n\\n5. **Waste Management**: Cities have advanced waste management systems that emphasize recycling and circular economy principles. Waste-to-energy plants convert waste into energy, and smart bins automatically sort recyclables from trash.\\n\\n6. **Water Management**: Desalination and water recycling technologies ensure a sustainable water supply. Smart irrigation systems and permeable surfaces help manage stormwater and reduce runoff.\\n\\n7. **Living Environments**: Housing is diverse, with modular, affordable units that can adapt to the needs of residents. Mixed-use developments integrate residential, commercial, and recreational spaces, enhancing community interaction.\\n\\n8. **Digital Services**: Digital platforms provide residents with access to a host of services, including telemedicine, virtual education, and civic engagement tools. Augmented reality overlays enhance navigation and information accessibility around the city.\\n\\n9. **Resilience and Adaptation**: Cities are designed to be resilient against climate change impacts. Flood defense systems, heat-reflective surfaces, and infrastructure designed for extreme weather events protect urban areas and their populations.\\n\\n10. **Community and Inclusivity**: Cities prioritize inclusivity and equity, ensuring access to technology, education, and health services for all demographic groups. Public spaces are designed to be accessible to people of all abilities, fostering a sense of community.\\n\\nIn summary, futuristic cities in 2050 are vibrant, smart, and sustainable, blending technology with nature to create harmonious living spaces that prioritize human well-being and environmental stewardship.', type='TextMessage'), TextMessage(source='critic_agent', models_usage=RequestUsage(prompt_tokens=595, completion_tokens=115), metadata={}, created_at=datetime.datetime(2025, 6, 6, 15, 46, 4, 14322, tzinfo=datetime.timezone.utc), content='The response gives a thorough and imaginative vision of a futuristic city in 2050, covering various aspects such as smart infrastructure, sustainable energy, transportation, and community. The details provided about technology integration and environmental considerations are relevant and well-articulated. However, to enhance engagement and relatability, it could benefit from including specific examples of cities or unique innovations that might materialize by 2050. Adding insights into how these changes might address current urban challenges could also provide a deeper connection and understanding for readers. Overall, great effort in envisioning a balanced, futuristic ecosystem!', type='TextMessage'), TextMessage(source='primary_agent', models_usage=RequestUsage(prompt_tokens=699, completion_tokens=277), metadata={}, created_at=datetime.datetime(2025, 6, 6, 15, 46, 11, 558234, tzinfo=datetime.timezone.utc), content=\"Thank you for the feedback! To add more specificity and engagement, let's consider how specific cities or innovations could lead the way by 2050.\\n\\nFor example, a city like Singapore, known for its urban planning and green initiatives, might spearhead the development of vertical farms that not only supply local produce but also act as carbon sinks. These farms could be integrated into the very architecture of residential and commercial buildings, effectively turning the city into a self-sustaining ecosystem.\\n\\nIn terms of transportation, Los Angeles could transform its extensive freeway network into a hub for autonomous electric vehicles, robo-taxis, and hyperloops. This shift could be accompanied by smart traffic management systems that use AI to optimize traffic flow and reduce congestion, a significant improvement over today's gridlock issues.\\n\\nOn the innovation front, Tokyo might lead in waste management technology by deploying advanced recycling robots and AI-driven waste sorting facilities, significantly reducing landfill use and promoting a circular economy. These innovations address present urban challenges such as waste management inefficiencies and limited landfill space.\\n\\nAdditionally, by 2050, cities like Amsterdam might expand their bike-friendly infrastructure to include smart bikes equipped with GPS and health-monitoring systems, encouraging active and healthy lifestyles while reducing environmental footprints.\\n\\nThese examples illustrate not only technological advancements but also their potential to solve current issues like pollution, traffic congestion, and limited urban space, helping cities become more resilient and sustainable.\", type='TextMessage'), TextMessage(source='critic_agent', models_usage=RequestUsage(prompt_tokens=998, completion_tokens=102), metadata={}, created_at=datetime.datetime(2025, 6, 6, 15, 46, 14, 714291, tzinfo=datetime.timezone.utc), content='This revised response effectively incorporates specific examples of cities known for their innovative practices, which enhances the connection and relatability for readers. Mentioning cities like Singapore, Los Angeles, Tokyo, and Amsterdam provides tangible references to how futuristic changes may manifest in different urban settings, addressing current urban challenges. This approach enriches the narrative with practical and engaging illustrations, making the vision of 2050 more vivid and believable. The response successfully builds on the initial feedback, and the added specificity strengthens the overall impact.\\n\\nAPPROVE', type='TextMessage')], stop_reason=\"Maximum number of messages 3 reached, current message count: 3, Text 'APPROVE' mentioned\")"
      ]
     },
     "execution_count": 6,
     "metadata": {},
     "output_type": "execute_result"
    }
   ],
   "source": [
    "await Console(\n",
    "    team.run_stream(task=\"Describe a futuristic city in 2050.\")\n",
    ")"
   ]
  }
 ],
 "metadata": {
  "kernelspec": {
   "display_name": ".venv",
   "language": "python",
   "name": "python3"
  },
  "language_info": {
   "codemirror_mode": {
    "name": "ipython",
    "version": 3
   },
   "file_extension": ".py",
   "mimetype": "text/x-python",
   "name": "python",
   "nbconvert_exporter": "python",
   "pygments_lexer": "ipython3",
   "version": "3.11.12"
  }
 },
 "nbformat": 4,
 "nbformat_minor": 5
}
